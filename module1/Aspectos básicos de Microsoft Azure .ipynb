{
 "cells": [
  {
   "cell_type": "markdown",
   "id": "4c87918c",
   "metadata": {},
   "source": [
    "# Descripción de los conceptos básicos de Azure\n",
    "\n",
    "## Introduccion a los aspectos basicos de Azure\n",
    "\n",
    "### 1. Introducción a los aspectos básicos de Azure\n",
    "\n",
    "El [examen AZ-900](https://docs.microsoft.com/es-es/certifications/exams/az-900) tien la siguiente poderacion:\n",
    "\n",
    "- Conceptos de la nube: **20-25 %**\n",
    "\n",
    "- Servicios básicos de Azure: **15-20 %**\n",
    "\n",
    "- Descripción de las principales soluciones y herramientas de administración de Azure **10-15 **\n",
    "\n",
    "- Seguridad general y de seguridad de red **10-15**\n",
    "\n",
    "- Identidad, gobernanza, privacidad y cumplimiento **20-25 %**\n",
    "\n",
    "-  Microsoft Cost Management y los acuerdos de nivel servicio **10-15 %**"
   ]
  },
  {
   "cell_type": "markdown",
   "id": "7c55adb6",
   "metadata": {},
   "source": []
  },
  {
   "cell_type": "markdown",
   "id": "8980a5ce",
   "metadata": {},
   "source": []
  }
 ],
 "metadata": {
  "kernelspec": {
   "display_name": "Python 3 (ipykernel)",
   "language": "python",
   "name": "python3"
  },
  "language_info": {
   "codemirror_mode": {
    "name": "ipython",
    "version": 3
   },
   "file_extension": ".py",
   "mimetype": "text/x-python",
   "name": "python",
   "nbconvert_exporter": "python",
   "pygments_lexer": "ipython3",
   "version": "3.9.12"
  }
 },
 "nbformat": 4,
 "nbformat_minor": 5
}
